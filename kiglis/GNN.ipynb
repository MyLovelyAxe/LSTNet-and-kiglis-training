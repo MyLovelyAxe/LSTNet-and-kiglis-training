{
 "cells": [
  {
   "cell_type": "markdown",
   "id": "fc7a568a",
   "metadata": {},
   "source": [
    "## GNN\n",
    "<font size=2>\n",
    "The tutorial video is:\n",
    "    \n",
    "https://www.youtube.com/watch?v=JAB_plj2rbA&list=PLoROMvodv4rPLKxIpqhjhPgdQy7imNkDn"
   ]
  },
  {
   "cell_type": "markdown",
   "id": "0d2558f7",
   "metadata": {},
   "source": [
    "#### what is GNN\n",
    "<font size=2>\n",
    "    \n",
    "Each node is encoded as distributed vector presentation from some information\n",
    "    \n",
    "<div>\n",
    "<img src=\"GNN_1.png\" style=\"zoom:50%\" />\n",
    "</div>\n",
    "    \n",
    "The output of a graph through GNN is also a graph, whose nodes contain the task-specific information of nodes from previous graph.\n",
    "    \n",
    "<div>\n",
    "<img src=\"GNN_2.png\" style=\"zoom:50%\" />\n",
    "</div>\n",
    "\n",
    "$node_{F}$ has a state on time **t-1**, and combines the **messages** from its neighbours to have a state on time **t**.\n",
    "    \n",
    "<div>\n",
    "<img src=\"GNN_3.png\" style=\"zoom:40%\" />\n",
    "</div>\n",
    "    \n",
    "Above is about one single node. For all nodes, they update simultaneously and parallel, which is like:\n",
    "    \n",
    "<div>\n",
    "<img src=\"GNN_4.png\" style=\"zoom:50%\" />\n",
    "</div>\n",
    "    \n",
    "It is similar with CNN, where in each convolution only local area is integrated, but as many convolutions pass, more information about local area is included. For one node in graph, it firstly combines the inforamtion from neighbour, then in next state more information from neighbours come, as a result, the relation among further neighbours will be included.\n",
    "\n",
    "<div>\n",
    "    <img src=\"GNN_5.png\" style=\"zoom:20%\"/>\n",
    "    <img src=\"GNN_6.png\" style=\"zoom:20%\"/>\n",
    "</div>\n",
    "\n",
    "A more specifc example is as following:\n",
    "    \n",
    "<div>\n",
    "<img src=\"GNN_7.png\" style=\"zoom:40%\" />\n",
    "</div>"
   ]
  },
  {
   "cell_type": "markdown",
   "id": "44856beb",
   "metadata": {},
   "source": [
    "#### Expression of GGNN(Gated GNN) as matrix operation\n",
    "<font size=2>\n",
    "    \n",
    "$A$ is **adjacency matrix**, where the elements represent the relation among nodes. For example, $A_{11}$ represent from 0 to 0, $A_{12}$ represent from 0 to 1. If there is a path, then the element in matrix is 1, or is 0. For example, $A_{31}$ represent path from 2 to 0, there is no such path, so $A_{31}=0$; $A_{33}$ represent path from 2 to 2 itself, there is no such path, so $A_{33}=0$;\n",
    "    \n",
    "$N$ is the value of each node. Multiplicatio of them show the current state: node 0 has nothing, because there are only paths out of 0 but no path in it; node 1 has information of **a**; node 2 has both information of **a** and **b**;\n",
    "    \n",
    "<div>\n",
    "<img src=\"GNN_8.png\" style=\"zoom:40%\" />\n",
    "</div>\n",
    "    \n",
    "The implementation of illustrationa and pseudocode:\n",
    "    \n",
    "<img src=\"GNN_9.png\" style=\"zoom:40%\" />\n",
    "<img src=\"GNN_10.png\" style=\"zoom:40%\" />"
   ]
  },
  {
   "cell_type": "code",
   "execution_count": null,
   "id": "48cd5370",
   "metadata": {},
   "outputs": [],
   "source": []
  }
 ],
 "metadata": {
  "kernelspec": {
   "display_name": "Python 3 (ipykernel)",
   "language": "python",
   "name": "python3"
  },
  "language_info": {
   "codemirror_mode": {
    "name": "ipython",
    "version": 3
   },
   "file_extension": ".py",
   "mimetype": "text/x-python",
   "name": "python",
   "nbconvert_exporter": "python",
   "pygments_lexer": "ipython3",
   "version": "3.9.12"
  }
 },
 "nbformat": 4,
 "nbformat_minor": 5
}
