{
 "cells": [
  {
   "cell_type": "code",
   "execution_count": 2,
   "id": "0fff0046",
   "metadata": {},
   "outputs": [],
   "source": [
    "import torch\n",
    "import numpy as np\n",
    "import torch.nn as nn"
   ]
  },
  {
   "cell_type": "code",
   "execution_count": 3,
   "id": "5e1b1409",
   "metadata": {},
   "outputs": [],
   "source": [
    "# model = Network()\n",
    "# for epoch in range(10):\n",
    "#     for idx,input_data,target in enumerate(train_loader):\n",
    "#         # input_data:\n",
    "#         #     a batch containing input data with shape: [batch,window_size,state_size]\n",
    "#         #     e.g. with half_window = 20, input_data is: [128,41,30]\n",
    "#         # expand input_data as [128,1,41,30]\n",
    "#         # as its channel is set as 1, in order to fit first CNN layer\n",
    "#         # this expansion will be done in forward()\n",
    "#         # target:\n",
    "#         #     shape [128,30]\n",
    "#         # output of input_data after model-forward should has same shape with target\n",
    "#         out = model(input_data)\n",
    "#         loss = criterion(out, target)\n",
    "class Network(nn.Module):\n",
    "    \n",
    "    def __init__(self):\n",
    "        super(Network,self).__init__()\n",
    "        \n",
    "        ###### parameters ######\n",
    "        self.kernel = 6\n",
    "        self.m = 30 # original data: [32768,30]\n",
    "        self.drop_ratio = 0.2\n",
    "        self.CNNhid = 100\n",
    "        self.RNNhid = 100\n",
    "        \n",
    "        ###### CNN ######\n",
    "        # in: [128,1,41,30] [batch,channel,window_size,state_size]\n",
    "        # out: [128,100,36] [batch,cnn_hidden,seq_len]\n",
    "        self.cnn = nn.Sequential(\n",
    "            nn.Conv2d(in_channels=1,out_channels=self.CNNhid,kernel_size=(self.kernel,self.m)),\n",
    "            nn.ReLU(),\n",
    "            nn.Dropout(self.drop_ratio)\n",
    "        )\n",
    "        \n",
    "        ###### GRU ######\n",
    "        # in: [36,128,100]\n",
    "        # out: [1,128,100] [layer_num,batch,gru_hidden]\n",
    "        self.gru = nn.GRU(input_size=self.CNNhid, hidden_size=self.RNNhid)\n",
    "        \n",
    "        ###### output ######\n",
    "        self.output = nn.Sequential(\n",
    "            nn.Linear(self.RNNhid,self.m),\n",
    "            nn.Sigmoid()\n",
    "        )\n",
    "        \n",
    "    def forward(self,x):\n",
    "        \n",
    "        print(\"shape of input: {}\".format(x.shape))\n",
    "        ###### CNN ######\n",
    "        # to fit CNN layer:\n",
    "        # from: [128,41,30] [batch,window_size,state_size]\n",
    "        # to: [128,1,41,30] [batch,channel,window_size,state_size]\n",
    "        x = x.unsqueeze(1)\n",
    "        print(\"shape before CNN: {}\".format(x.shape))\n",
    "        # in: [128,1,41,30] [batch,channel,window_size,state_size]\n",
    "        # out: [128,100,36] [batch,cnn_hidden,seq_len]\n",
    "        x = self.cnn(x)\n",
    "        x = x.squeeze(3)\n",
    "        print(\"shape after CNN: {}\".format(x.shape))\n",
    "        \n",
    "        ###### GRU ######\n",
    "        # to fit GRU:\n",
    "        # from: [128,100,36] [batch,cnn_hidden,seq_len]\n",
    "        # to: [36,128,100] [seq_len,batch,cnn_hidden]\n",
    "        x = x.permute(2,0,1).contiguous()\n",
    "        print(\"shape before GRU: {}\".format(x.shape))\n",
    "        # in: [36,128,100] [seq_len,batch,cnn_hidden]\n",
    "        # out: [1,128,100] [layer_num,batch,gru_hidden]\n",
    "        _, hidden = self.gru(x)\n",
    "        self.gru_drop = nn.Dropout(self.drop_ratio)\n",
    "        print(\"shape of GRU-hidden: {}\".format(hidden.shape))\n",
    "        hidden = self.gru_drop(hidden.squeeze(0))\n",
    "        \n",
    "        ###### output ######\n",
    "        # in: [128,100] [batch,gru_hidden]\n",
    "        # out: [128,30] [batch,state_size]\n",
    "        print(\"shape of GRU-hidden before Linear and Sigmoid: {}\".format(hidden.shape))\n",
    "        output = self.output(hidden)\n",
    "        \n",
    "        return output"
   ]
  },
  {
   "cell_type": "code",
   "execution_count": 46,
   "id": "fea1243a",
   "metadata": {},
   "outputs": [
    {
     "name": "stdout",
     "output_type": "stream",
     "text": [
      "shape of input: torch.Size([128, 41, 30])\n",
      "shape before CNN: torch.Size([128, 1, 41, 30])\n",
      "shape after CNN: torch.Size([128, 100, 36])\n",
      "shape before GRU: torch.Size([36, 128, 100])\n",
      "shape of GRU-hidden: torch.Size([1, 128, 100])\n",
      "shape of GRU-hidden before Linear and Sigmoid: torch.Size([128, 100])\n",
      "shape of output: torch.Size([128, 30])\n"
     ]
    }
   ],
   "source": [
    "if __name__ == \"__main__\":\n",
    "    x = torch.randn(128,41,30)\n",
    "    model = Network()\n",
    "    out = model(x)\n",
    "    print(\"shape of output: {}\".format(out.shape))"
   ]
  },
  {
   "cell_type": "code",
   "execution_count": null,
   "id": "04a75988",
   "metadata": {},
   "outputs": [],
   "source": []
  }
 ],
 "metadata": {
  "kernelspec": {
   "display_name": "Python 3 (ipykernel)",
   "language": "python",
   "name": "python3"
  },
  "language_info": {
   "codemirror_mode": {
    "name": "ipython",
    "version": 3
   },
   "file_extension": ".py",
   "mimetype": "text/x-python",
   "name": "python",
   "nbconvert_exporter": "python",
   "pygments_lexer": "ipython3",
   "version": "3.9.12"
  }
 },
 "nbformat": 4,
 "nbformat_minor": 5
}
